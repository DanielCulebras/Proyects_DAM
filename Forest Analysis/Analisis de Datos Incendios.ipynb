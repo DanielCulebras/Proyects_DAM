{
 "cells": [
  {
   "cell_type": "markdown",
   "metadata": {},
   "source": [
    "# Analisis de Datos de Incendios"
   ]
  },
  {
   "cell_type": "markdown",
   "metadata": {},
   "source": [
    "## Enunciado"
   ]
  },
  {
   "cell_type": "markdown",
   "metadata": {},
   "source": [
    "Debes realizar un proceso completo de depuración y análisis de datos, realizando los siguientes pasos:\n",
    "- Carga el dataframe adjunto y realiza, un análisis inicial del mismo (describe()..., describe().T, quantiles... etc)\n",
    "- Observa como están los datos, hay vacíos, columnas no necesarias (indicadas en el fichero de descripción de campos)\n",
    "- Convierte los datos de mes y día semana a castellano, añade una columna llamada GRAVEDAD (con los valores ALTA, MEDIA y BAJA, según la hectáreas quemadas (ALTA > 700 ha, MEDIA entre 400 y 700, BAJA < 400).\n",
    "- Procede a realizar un análisis según los gráficos que veas necesarios, para poder ir sacando conclusiones e información de interés.\n",
    "- Todo el proceso debe quedar reflejado en un documento jupyter con los comentarios y cabeceras en markdowm, las ejecuciones de limpieza y manipulación. así como los gráficos generados comentando lo que observamos."
   ]
  },
  {
   "cell_type": "markdown",
   "metadata": {},
   "source": [
    "## Cargar el dataframe"
   ]
  },
  {
   "cell_type": "markdown",
   "metadata": {},
   "source": [
    "Para ello necesitamos importar ```Pandas```."
   ]
  },
  {
   "cell_type": "code",
   "execution_count": 2,
   "metadata": {},
   "outputs": [],
   "source": [
    "import pandas as pd"
   ]
  },
  {
   "cell_type": "markdown",
   "metadata": {},
   "source": [
    "Ahora debemos <b>descomprimir</b> y <b>extraer</b> el dataframe. Para descomprimir debemos utilizar la libreria ```zipfile```."
   ]
  },
  {
   "cell_type": "code",
   "execution_count": 3,
   "metadata": {},
   "outputs": [
    {
     "data": {
      "text/html": [
       "<div>\n",
       "<style scoped>\n",
       "    .dataframe tbody tr th:only-of-type {\n",
       "        vertical-align: middle;\n",
       "    }\n",
       "\n",
       "    .dataframe tbody tr th {\n",
       "        vertical-align: top;\n",
       "    }\n",
       "\n",
       "    .dataframe thead th {\n",
       "        text-align: right;\n",
       "    }\n",
       "</style>\n",
       "<table border=\"1\" class=\"dataframe\">\n",
       "  <thead>\n",
       "    <tr style=\"text-align: right;\">\n",
       "      <th></th>\n",
       "      <th>X</th>\n",
       "      <th>Y</th>\n",
       "      <th>MES</th>\n",
       "      <th>DIA_SEMANA</th>\n",
       "      <th>FFMC</th>\n",
       "      <th>DMC</th>\n",
       "      <th>DC</th>\n",
       "      <th>ISI</th>\n",
       "      <th>TEMPERATURA</th>\n",
       "      <th>HUMEDAD_RELATIVA</th>\n",
       "      <th>VIENTO</th>\n",
       "      <th>LLUVIA</th>\n",
       "      <th>AREA_QUEMADA</th>\n",
       "    </tr>\n",
       "  </thead>\n",
       "  <tbody>\n",
       "    <tr>\n",
       "      <th>0</th>\n",
       "      <td>7</td>\n",
       "      <td>5</td>\n",
       "      <td>mar</td>\n",
       "      <td>fri</td>\n",
       "      <td>86.2</td>\n",
       "      <td>26.2</td>\n",
       "      <td>94.3</td>\n",
       "      <td>5.1</td>\n",
       "      <td>8.2</td>\n",
       "      <td>51</td>\n",
       "      <td>6.7</td>\n",
       "      <td>0.0</td>\n",
       "      <td>0.0</td>\n",
       "    </tr>\n",
       "    <tr>\n",
       "      <th>1</th>\n",
       "      <td>7</td>\n",
       "      <td>4</td>\n",
       "      <td>oct</td>\n",
       "      <td>tue</td>\n",
       "      <td>90.6</td>\n",
       "      <td>35.4</td>\n",
       "      <td>669.1</td>\n",
       "      <td>6.7</td>\n",
       "      <td>18.0</td>\n",
       "      <td>33</td>\n",
       "      <td>0.9</td>\n",
       "      <td>0.0</td>\n",
       "      <td>0.0</td>\n",
       "    </tr>\n",
       "    <tr>\n",
       "      <th>2</th>\n",
       "      <td>7</td>\n",
       "      <td>4</td>\n",
       "      <td>oct</td>\n",
       "      <td>sat</td>\n",
       "      <td>90.6</td>\n",
       "      <td>43.7</td>\n",
       "      <td>686.9</td>\n",
       "      <td>6.7</td>\n",
       "      <td>14.6</td>\n",
       "      <td>33</td>\n",
       "      <td>1.3</td>\n",
       "      <td>0.0</td>\n",
       "      <td>0.0</td>\n",
       "    </tr>\n",
       "    <tr>\n",
       "      <th>3</th>\n",
       "      <td>8</td>\n",
       "      <td>6</td>\n",
       "      <td>mar</td>\n",
       "      <td>fri</td>\n",
       "      <td>91.7</td>\n",
       "      <td>33.3</td>\n",
       "      <td>77.5</td>\n",
       "      <td>9.0</td>\n",
       "      <td>8.3</td>\n",
       "      <td>97</td>\n",
       "      <td>4.0</td>\n",
       "      <td>0.2</td>\n",
       "      <td>0.0</td>\n",
       "    </tr>\n",
       "    <tr>\n",
       "      <th>4</th>\n",
       "      <td>8</td>\n",
       "      <td>6</td>\n",
       "      <td>mar</td>\n",
       "      <td>sun</td>\n",
       "      <td>89.3</td>\n",
       "      <td>51.3</td>\n",
       "      <td>102.2</td>\n",
       "      <td>9.6</td>\n",
       "      <td>11.4</td>\n",
       "      <td>99</td>\n",
       "      <td>1.8</td>\n",
       "      <td>0.0</td>\n",
       "      <td>0.0</td>\n",
       "    </tr>\n",
       "  </tbody>\n",
       "</table>\n",
       "</div>"
      ],
      "text/plain": [
       "   X  Y  MES DIA_SEMANA  FFMC   DMC     DC  ISI  TEMPERATURA  \\\n",
       "0  7  5  mar        fri  86.2  26.2   94.3  5.1          8.2   \n",
       "1  7  4  oct        tue  90.6  35.4  669.1  6.7         18.0   \n",
       "2  7  4  oct        sat  90.6  43.7  686.9  6.7         14.6   \n",
       "3  8  6  mar        fri  91.7  33.3   77.5  9.0          8.3   \n",
       "4  8  6  mar        sun  89.3  51.3  102.2  9.6         11.4   \n",
       "\n",
       "   HUMEDAD_RELATIVA  VIENTO  LLUVIA  AREA_QUEMADA  \n",
       "0                51     6.7     0.0           0.0  \n",
       "1                33     0.9     0.0           0.0  \n",
       "2                33     1.3     0.0           0.0  \n",
       "3                97     4.0     0.2           0.0  \n",
       "4                99     1.8     0.0           0.0  "
      ]
     },
     "execution_count": 3,
     "metadata": {},
     "output_type": "execute_result"
    }
   ],
   "source": [
    "import zipfile\n",
    "\n",
    "zf = zipfile.ZipFile('DATAFRAME INCENDIOS.zip')\n",
    "df = pd.read_csv(zf.open('INCENDIOS/INCENDIOS.csv'))\n",
    "df.head()"
   ]
  },
  {
   "cell_type": "markdown",
   "metadata": {},
   "source": [
    "## Analisis del dataframe"
   ]
  },
  {
   "cell_type": "markdown",
   "metadata": {},
   "source": [
    "Realizamos un ```describe()``` para poder ver cosas como el <em>count</em>, <em>media</em>, <em>desviacion tipica estandar</em>, <em>minimo</em>, <em>cuartiles</em> y <em>maximo</em>."
   ]
  },
  {
   "cell_type": "code",
   "execution_count": 4,
   "metadata": {},
   "outputs": [
    {
     "data": {
      "text/html": [
       "<div>\n",
       "<style scoped>\n",
       "    .dataframe tbody tr th:only-of-type {\n",
       "        vertical-align: middle;\n",
       "    }\n",
       "\n",
       "    .dataframe tbody tr th {\n",
       "        vertical-align: top;\n",
       "    }\n",
       "\n",
       "    .dataframe thead th {\n",
       "        text-align: right;\n",
       "    }\n",
       "</style>\n",
       "<table border=\"1\" class=\"dataframe\">\n",
       "  <thead>\n",
       "    <tr style=\"text-align: right;\">\n",
       "      <th></th>\n",
       "      <th>X</th>\n",
       "      <th>Y</th>\n",
       "      <th>FFMC</th>\n",
       "      <th>DMC</th>\n",
       "      <th>DC</th>\n",
       "      <th>ISI</th>\n",
       "      <th>TEMPERATURA</th>\n",
       "      <th>HUMEDAD_RELATIVA</th>\n",
       "      <th>VIENTO</th>\n",
       "      <th>LLUVIA</th>\n",
       "      <th>AREA_QUEMADA</th>\n",
       "    </tr>\n",
       "  </thead>\n",
       "  <tbody>\n",
       "    <tr>\n",
       "      <th>count</th>\n",
       "      <td>517.000000</td>\n",
       "      <td>517.000000</td>\n",
       "      <td>517.000000</td>\n",
       "      <td>517.000000</td>\n",
       "      <td>517.000000</td>\n",
       "      <td>517.000000</td>\n",
       "      <td>517.000000</td>\n",
       "      <td>517.000000</td>\n",
       "      <td>517.000000</td>\n",
       "      <td>517.000000</td>\n",
       "      <td>517.000000</td>\n",
       "    </tr>\n",
       "    <tr>\n",
       "      <th>mean</th>\n",
       "      <td>4.669246</td>\n",
       "      <td>4.299807</td>\n",
       "      <td>90.644681</td>\n",
       "      <td>110.872340</td>\n",
       "      <td>547.940039</td>\n",
       "      <td>9.021663</td>\n",
       "      <td>18.889168</td>\n",
       "      <td>44.288201</td>\n",
       "      <td>4.017602</td>\n",
       "      <td>0.021663</td>\n",
       "      <td>12.847292</td>\n",
       "    </tr>\n",
       "    <tr>\n",
       "      <th>std</th>\n",
       "      <td>2.313778</td>\n",
       "      <td>1.229900</td>\n",
       "      <td>5.520111</td>\n",
       "      <td>64.046482</td>\n",
       "      <td>248.066192</td>\n",
       "      <td>4.559477</td>\n",
       "      <td>5.806625</td>\n",
       "      <td>16.317469</td>\n",
       "      <td>1.791653</td>\n",
       "      <td>0.295959</td>\n",
       "      <td>63.655818</td>\n",
       "    </tr>\n",
       "    <tr>\n",
       "      <th>min</th>\n",
       "      <td>1.000000</td>\n",
       "      <td>2.000000</td>\n",
       "      <td>18.700000</td>\n",
       "      <td>1.100000</td>\n",
       "      <td>7.900000</td>\n",
       "      <td>0.000000</td>\n",
       "      <td>2.200000</td>\n",
       "      <td>15.000000</td>\n",
       "      <td>0.400000</td>\n",
       "      <td>0.000000</td>\n",
       "      <td>0.000000</td>\n",
       "    </tr>\n",
       "    <tr>\n",
       "      <th>25%</th>\n",
       "      <td>3.000000</td>\n",
       "      <td>4.000000</td>\n",
       "      <td>90.200000</td>\n",
       "      <td>68.600000</td>\n",
       "      <td>437.700000</td>\n",
       "      <td>6.500000</td>\n",
       "      <td>15.500000</td>\n",
       "      <td>33.000000</td>\n",
       "      <td>2.700000</td>\n",
       "      <td>0.000000</td>\n",
       "      <td>0.000000</td>\n",
       "    </tr>\n",
       "    <tr>\n",
       "      <th>50%</th>\n",
       "      <td>4.000000</td>\n",
       "      <td>4.000000</td>\n",
       "      <td>91.600000</td>\n",
       "      <td>108.300000</td>\n",
       "      <td>664.200000</td>\n",
       "      <td>8.400000</td>\n",
       "      <td>19.300000</td>\n",
       "      <td>42.000000</td>\n",
       "      <td>4.000000</td>\n",
       "      <td>0.000000</td>\n",
       "      <td>0.520000</td>\n",
       "    </tr>\n",
       "    <tr>\n",
       "      <th>75%</th>\n",
       "      <td>7.000000</td>\n",
       "      <td>5.000000</td>\n",
       "      <td>92.900000</td>\n",
       "      <td>142.400000</td>\n",
       "      <td>713.900000</td>\n",
       "      <td>10.800000</td>\n",
       "      <td>22.800000</td>\n",
       "      <td>53.000000</td>\n",
       "      <td>4.900000</td>\n",
       "      <td>0.000000</td>\n",
       "      <td>6.570000</td>\n",
       "    </tr>\n",
       "    <tr>\n",
       "      <th>max</th>\n",
       "      <td>9.000000</td>\n",
       "      <td>9.000000</td>\n",
       "      <td>96.200000</td>\n",
       "      <td>291.300000</td>\n",
       "      <td>860.600000</td>\n",
       "      <td>56.100000</td>\n",
       "      <td>33.300000</td>\n",
       "      <td>100.000000</td>\n",
       "      <td>9.400000</td>\n",
       "      <td>6.400000</td>\n",
       "      <td>1090.840000</td>\n",
       "    </tr>\n",
       "  </tbody>\n",
       "</table>\n",
       "</div>"
      ],
      "text/plain": [
       "                X           Y        FFMC         DMC          DC         ISI  \\\n",
       "count  517.000000  517.000000  517.000000  517.000000  517.000000  517.000000   \n",
       "mean     4.669246    4.299807   90.644681  110.872340  547.940039    9.021663   \n",
       "std      2.313778    1.229900    5.520111   64.046482  248.066192    4.559477   \n",
       "min      1.000000    2.000000   18.700000    1.100000    7.900000    0.000000   \n",
       "25%      3.000000    4.000000   90.200000   68.600000  437.700000    6.500000   \n",
       "50%      4.000000    4.000000   91.600000  108.300000  664.200000    8.400000   \n",
       "75%      7.000000    5.000000   92.900000  142.400000  713.900000   10.800000   \n",
       "max      9.000000    9.000000   96.200000  291.300000  860.600000   56.100000   \n",
       "\n",
       "       TEMPERATURA  HUMEDAD_RELATIVA      VIENTO      LLUVIA  AREA_QUEMADA  \n",
       "count   517.000000        517.000000  517.000000  517.000000    517.000000  \n",
       "mean     18.889168         44.288201    4.017602    0.021663     12.847292  \n",
       "std       5.806625         16.317469    1.791653    0.295959     63.655818  \n",
       "min       2.200000         15.000000    0.400000    0.000000      0.000000  \n",
       "25%      15.500000         33.000000    2.700000    0.000000      0.000000  \n",
       "50%      19.300000         42.000000    4.000000    0.000000      0.520000  \n",
       "75%      22.800000         53.000000    4.900000    0.000000      6.570000  \n",
       "max      33.300000        100.000000    9.400000    6.400000   1090.840000  "
      ]
     },
     "execution_count": 4,
     "metadata": {},
     "output_type": "execute_result"
    }
   ],
   "source": [
    "df.describe()"
   ]
  },
  {
   "cell_type": "code",
   "execution_count": 5,
   "metadata": {},
   "outputs": [
    {
     "data": {
      "text/html": [
       "<div>\n",
       "<style scoped>\n",
       "    .dataframe tbody tr th:only-of-type {\n",
       "        vertical-align: middle;\n",
       "    }\n",
       "\n",
       "    .dataframe tbody tr th {\n",
       "        vertical-align: top;\n",
       "    }\n",
       "\n",
       "    .dataframe thead th {\n",
       "        text-align: right;\n",
       "    }\n",
       "</style>\n",
       "<table border=\"1\" class=\"dataframe\">\n",
       "  <thead>\n",
       "    <tr style=\"text-align: right;\">\n",
       "      <th></th>\n",
       "      <th>count</th>\n",
       "      <th>mean</th>\n",
       "      <th>std</th>\n",
       "      <th>min</th>\n",
       "      <th>25%</th>\n",
       "      <th>50%</th>\n",
       "      <th>75%</th>\n",
       "      <th>max</th>\n",
       "    </tr>\n",
       "  </thead>\n",
       "  <tbody>\n",
       "    <tr>\n",
       "      <th>X</th>\n",
       "      <td>517.0</td>\n",
       "      <td>4.669246</td>\n",
       "      <td>2.313778</td>\n",
       "      <td>1.0</td>\n",
       "      <td>3.0</td>\n",
       "      <td>4.00</td>\n",
       "      <td>7.00</td>\n",
       "      <td>9.00</td>\n",
       "    </tr>\n",
       "    <tr>\n",
       "      <th>Y</th>\n",
       "      <td>517.0</td>\n",
       "      <td>4.299807</td>\n",
       "      <td>1.229900</td>\n",
       "      <td>2.0</td>\n",
       "      <td>4.0</td>\n",
       "      <td>4.00</td>\n",
       "      <td>5.00</td>\n",
       "      <td>9.00</td>\n",
       "    </tr>\n",
       "    <tr>\n",
       "      <th>FFMC</th>\n",
       "      <td>517.0</td>\n",
       "      <td>90.644681</td>\n",
       "      <td>5.520111</td>\n",
       "      <td>18.7</td>\n",
       "      <td>90.2</td>\n",
       "      <td>91.60</td>\n",
       "      <td>92.90</td>\n",
       "      <td>96.20</td>\n",
       "    </tr>\n",
       "    <tr>\n",
       "      <th>DMC</th>\n",
       "      <td>517.0</td>\n",
       "      <td>110.872340</td>\n",
       "      <td>64.046482</td>\n",
       "      <td>1.1</td>\n",
       "      <td>68.6</td>\n",
       "      <td>108.30</td>\n",
       "      <td>142.40</td>\n",
       "      <td>291.30</td>\n",
       "    </tr>\n",
       "    <tr>\n",
       "      <th>DC</th>\n",
       "      <td>517.0</td>\n",
       "      <td>547.940039</td>\n",
       "      <td>248.066192</td>\n",
       "      <td>7.9</td>\n",
       "      <td>437.7</td>\n",
       "      <td>664.20</td>\n",
       "      <td>713.90</td>\n",
       "      <td>860.60</td>\n",
       "    </tr>\n",
       "    <tr>\n",
       "      <th>ISI</th>\n",
       "      <td>517.0</td>\n",
       "      <td>9.021663</td>\n",
       "      <td>4.559477</td>\n",
       "      <td>0.0</td>\n",
       "      <td>6.5</td>\n",
       "      <td>8.40</td>\n",
       "      <td>10.80</td>\n",
       "      <td>56.10</td>\n",
       "    </tr>\n",
       "    <tr>\n",
       "      <th>TEMPERATURA</th>\n",
       "      <td>517.0</td>\n",
       "      <td>18.889168</td>\n",
       "      <td>5.806625</td>\n",
       "      <td>2.2</td>\n",
       "      <td>15.5</td>\n",
       "      <td>19.30</td>\n",
       "      <td>22.80</td>\n",
       "      <td>33.30</td>\n",
       "    </tr>\n",
       "    <tr>\n",
       "      <th>HUMEDAD_RELATIVA</th>\n",
       "      <td>517.0</td>\n",
       "      <td>44.288201</td>\n",
       "      <td>16.317469</td>\n",
       "      <td>15.0</td>\n",
       "      <td>33.0</td>\n",
       "      <td>42.00</td>\n",
       "      <td>53.00</td>\n",
       "      <td>100.00</td>\n",
       "    </tr>\n",
       "    <tr>\n",
       "      <th>VIENTO</th>\n",
       "      <td>517.0</td>\n",
       "      <td>4.017602</td>\n",
       "      <td>1.791653</td>\n",
       "      <td>0.4</td>\n",
       "      <td>2.7</td>\n",
       "      <td>4.00</td>\n",
       "      <td>4.90</td>\n",
       "      <td>9.40</td>\n",
       "    </tr>\n",
       "    <tr>\n",
       "      <th>LLUVIA</th>\n",
       "      <td>517.0</td>\n",
       "      <td>0.021663</td>\n",
       "      <td>0.295959</td>\n",
       "      <td>0.0</td>\n",
       "      <td>0.0</td>\n",
       "      <td>0.00</td>\n",
       "      <td>0.00</td>\n",
       "      <td>6.40</td>\n",
       "    </tr>\n",
       "    <tr>\n",
       "      <th>AREA_QUEMADA</th>\n",
       "      <td>517.0</td>\n",
       "      <td>12.847292</td>\n",
       "      <td>63.655818</td>\n",
       "      <td>0.0</td>\n",
       "      <td>0.0</td>\n",
       "      <td>0.52</td>\n",
       "      <td>6.57</td>\n",
       "      <td>1090.84</td>\n",
       "    </tr>\n",
       "  </tbody>\n",
       "</table>\n",
       "</div>"
      ],
      "text/plain": [
       "                  count        mean         std   min    25%     50%     75%  \\\n",
       "X                 517.0    4.669246    2.313778   1.0    3.0    4.00    7.00   \n",
       "Y                 517.0    4.299807    1.229900   2.0    4.0    4.00    5.00   \n",
       "FFMC              517.0   90.644681    5.520111  18.7   90.2   91.60   92.90   \n",
       "DMC               517.0  110.872340   64.046482   1.1   68.6  108.30  142.40   \n",
       "DC                517.0  547.940039  248.066192   7.9  437.7  664.20  713.90   \n",
       "ISI               517.0    9.021663    4.559477   0.0    6.5    8.40   10.80   \n",
       "TEMPERATURA       517.0   18.889168    5.806625   2.2   15.5   19.30   22.80   \n",
       "HUMEDAD_RELATIVA  517.0   44.288201   16.317469  15.0   33.0   42.00   53.00   \n",
       "VIENTO            517.0    4.017602    1.791653   0.4    2.7    4.00    4.90   \n",
       "LLUVIA            517.0    0.021663    0.295959   0.0    0.0    0.00    0.00   \n",
       "AREA_QUEMADA      517.0   12.847292   63.655818   0.0    0.0    0.52    6.57   \n",
       "\n",
       "                      max  \n",
       "X                    9.00  \n",
       "Y                    9.00  \n",
       "FFMC                96.20  \n",
       "DMC                291.30  \n",
       "DC                 860.60  \n",
       "ISI                 56.10  \n",
       "TEMPERATURA         33.30  \n",
       "HUMEDAD_RELATIVA   100.00  \n",
       "VIENTO               9.40  \n",
       "LLUVIA               6.40  \n",
       "AREA_QUEMADA      1090.84  "
      ]
     },
     "execution_count": 5,
     "metadata": {},
     "output_type": "execute_result"
    }
   ],
   "source": [
    "df.describe().T"
   ]
  },
  {
   "cell_type": "markdown",
   "metadata": {},
   "source": [
    "Observamos el <em>porcentaje</em> de vacios."
   ]
  },
  {
   "cell_type": "code",
   "execution_count": 6,
   "metadata": {},
   "outputs": [
    {
     "data": {
      "text/plain": [
       "X                   0.0\n",
       "Y                   0.0\n",
       "MES                 0.0\n",
       "DIA_SEMANA          0.0\n",
       "FFMC                0.0\n",
       "DMC                 0.0\n",
       "DC                  0.0\n",
       "ISI                 0.0\n",
       "TEMPERATURA         0.0\n",
       "HUMEDAD_RELATIVA    0.0\n",
       "VIENTO              0.0\n",
       "LLUVIA              0.0\n",
       "AREA_QUEMADA        0.0\n",
       "dtype: float64"
      ]
     },
     "execution_count": 6,
     "metadata": {},
     "output_type": "execute_result"
    }
   ],
   "source": [
    "df.isnull().sum()/len(df)*100"
   ]
  },
  {
   "cell_type": "markdown",
   "metadata": {},
   "source": [
    "No falta ningun valor en el dataframe."
   ]
  },
  {
   "cell_type": "markdown",
   "metadata": {},
   "source": [
    "Quitamos las columnas que no necesitamos:\n",
    "    - X\n",
    "    - Y\n",
    "    - FFMC\n",
    "    - DMC\n",
    "    - DC\n",
    "    - ISI"
   ]
  },
  {
   "cell_type": "code",
   "execution_count": 7,
   "metadata": {},
   "outputs": [
    {
     "data": {
      "text/html": [
       "<div>\n",
       "<style scoped>\n",
       "    .dataframe tbody tr th:only-of-type {\n",
       "        vertical-align: middle;\n",
       "    }\n",
       "\n",
       "    .dataframe tbody tr th {\n",
       "        vertical-align: top;\n",
       "    }\n",
       "\n",
       "    .dataframe thead th {\n",
       "        text-align: right;\n",
       "    }\n",
       "</style>\n",
       "<table border=\"1\" class=\"dataframe\">\n",
       "  <thead>\n",
       "    <tr style=\"text-align: right;\">\n",
       "      <th></th>\n",
       "      <th>MES</th>\n",
       "      <th>DIA_SEMANA</th>\n",
       "      <th>TEMPERATURA</th>\n",
       "      <th>HUMEDAD_RELATIVA</th>\n",
       "      <th>VIENTO</th>\n",
       "      <th>LLUVIA</th>\n",
       "      <th>AREA_QUEMADA</th>\n",
       "    </tr>\n",
       "  </thead>\n",
       "  <tbody>\n",
       "    <tr>\n",
       "      <th>0</th>\n",
       "      <td>mar</td>\n",
       "      <td>fri</td>\n",
       "      <td>8.2</td>\n",
       "      <td>51</td>\n",
       "      <td>6.7</td>\n",
       "      <td>0.0</td>\n",
       "      <td>0.0</td>\n",
       "    </tr>\n",
       "    <tr>\n",
       "      <th>1</th>\n",
       "      <td>oct</td>\n",
       "      <td>tue</td>\n",
       "      <td>18.0</td>\n",
       "      <td>33</td>\n",
       "      <td>0.9</td>\n",
       "      <td>0.0</td>\n",
       "      <td>0.0</td>\n",
       "    </tr>\n",
       "    <tr>\n",
       "      <th>2</th>\n",
       "      <td>oct</td>\n",
       "      <td>sat</td>\n",
       "      <td>14.6</td>\n",
       "      <td>33</td>\n",
       "      <td>1.3</td>\n",
       "      <td>0.0</td>\n",
       "      <td>0.0</td>\n",
       "    </tr>\n",
       "    <tr>\n",
       "      <th>3</th>\n",
       "      <td>mar</td>\n",
       "      <td>fri</td>\n",
       "      <td>8.3</td>\n",
       "      <td>97</td>\n",
       "      <td>4.0</td>\n",
       "      <td>0.2</td>\n",
       "      <td>0.0</td>\n",
       "    </tr>\n",
       "    <tr>\n",
       "      <th>4</th>\n",
       "      <td>mar</td>\n",
       "      <td>sun</td>\n",
       "      <td>11.4</td>\n",
       "      <td>99</td>\n",
       "      <td>1.8</td>\n",
       "      <td>0.0</td>\n",
       "      <td>0.0</td>\n",
       "    </tr>\n",
       "  </tbody>\n",
       "</table>\n",
       "</div>"
      ],
      "text/plain": [
       "   MES DIA_SEMANA  TEMPERATURA  HUMEDAD_RELATIVA  VIENTO  LLUVIA  AREA_QUEMADA\n",
       "0  mar        fri          8.2                51     6.7     0.0           0.0\n",
       "1  oct        tue         18.0                33     0.9     0.0           0.0\n",
       "2  oct        sat         14.6                33     1.3     0.0           0.0\n",
       "3  mar        fri          8.3                97     4.0     0.2           0.0\n",
       "4  mar        sun         11.4                99     1.8     0.0           0.0"
      ]
     },
     "execution_count": 7,
     "metadata": {},
     "output_type": "execute_result"
    }
   ],
   "source": [
    "df = df.drop('X', axis = 1)\n",
    "df = df.drop('Y', axis = 1)\n",
    "df = df.drop('FFMC', axis = 1)\n",
    "df = df.drop('DMC', axis = 1)\n",
    "df = df.drop('DC', axis = 1)\n",
    "df = df.drop('ISI', axis = 1)\n",
    "df.head()"
   ]
  },
  {
   "cell_type": "markdown",
   "metadata": {},
   "source": [
    "## Traducir los datos del mes y dia al castellano"
   ]
  },
  {
   "cell_type": "markdown",
   "metadata": {},
   "source": [
    "Para traducir usaremos el metodo pandas.DataFrame.replace().<br>\n",
    "Usaremos un <em>diccionario</em> para cambiar los valores del mes."
   ]
  },
  {
   "cell_type": "code",
   "execution_count": 8,
   "metadata": {},
   "outputs": [
    {
     "data": {
      "text/plain": [
       "0      mar\n",
       "1      oct\n",
       "2      oct\n",
       "3      mar\n",
       "4      mar\n",
       "      ... \n",
       "512    ago\n",
       "513    ago\n",
       "514    ago\n",
       "515    ago\n",
       "516    nov\n",
       "Name: MES, Length: 517, dtype: object"
      ]
     },
     "execution_count": 8,
     "metadata": {},
     "output_type": "execute_result"
    }
   ],
   "source": [
    "df = df.replace({\"jan\":\"ene\",\"apr\":\"abr\",\"aug\":\"ago\",\"dec\":\"dic\"})\n",
    "df['MES']"
   ]
  },
  {
   "cell_type": "markdown",
   "metadata": {},
   "source": [
    "Hacemos lo mismo para cambiar los dias de la semana."
   ]
  },
  {
   "cell_type": "code",
   "execution_count": 9,
   "metadata": {},
   "outputs": [
    {
     "data": {
      "text/plain": [
       "0      vie\n",
       "1      mar\n",
       "2      sab\n",
       "3      vie\n",
       "4      dom\n",
       "      ... \n",
       "512    dom\n",
       "513    dom\n",
       "514    dom\n",
       "515    sab\n",
       "516    mar\n",
       "Name: DIA_SEMANA, Length: 517, dtype: object"
      ]
     },
     "execution_count": 9,
     "metadata": {},
     "output_type": "execute_result"
    }
   ],
   "source": [
    "df = df.replace({\"mon\":\"lun\",\"tue\":\"mar\",\"wed\":\"mie\",\"thu\":\"jue\",\"fri\":\"vie\",\"sat\":\"sab\",\"sun\":\"dom\"})\n",
    "df['DIA_SEMANA']"
   ]
  },
  {
   "cell_type": "markdown",
   "metadata": {},
   "source": [
    "## Crear una nueva columna basada en una condicion"
   ]
  },
  {
   "cell_type": "markdown",
   "metadata": {},
   "source": [
    "Para lograrlo usaremos esta funcion:<br>\n",
    "```df['tier'] = np.select(conditions, values)```\n",
    "\n",
    "Pero antes debemos importar la libreria ```numpy```"
   ]
  },
  {
   "cell_type": "code",
   "execution_count": 10,
   "metadata": {},
   "outputs": [],
   "source": [
    "import numpy as np"
   ]
  },
  {
   "cell_type": "markdown",
   "metadata": {},
   "source": [
    "Creamos la lista de <em>condiciones</em>:\n",
    "\n",
    "(ALTA > 700 ha, MEDIA entre 400 y 700, BAJA < 400)"
   ]
  },
  {
   "cell_type": "code",
   "execution_count": 11,
   "metadata": {},
   "outputs": [],
   "source": [
    "conditions = [\n",
    "    (df['AREA_QUEMADA'] > 700),\n",
    "    (df['AREA_QUEMADA'] <= 700) & (df['AREA_QUEMADA'] > 400),\n",
    "    (df['AREA_QUEMADA'] <= 400)\n",
    "]"
   ]
  },
  {
   "cell_type": "markdown",
   "metadata": {},
   "source": [
    "Creamos la lista de <em>valores<em> que asignaremos en esos casos:"
   ]
  },
  {
   "cell_type": "code",
   "execution_count": 12,
   "metadata": {},
   "outputs": [],
   "source": [
    "values = ['ALTA', 'MEDIA', 'BAJA']"
   ]
  },
  {
   "cell_type": "markdown",
   "metadata": {},
   "source": [
    "Creamos una nueva columna <em>GRAVEDAD</em> con los valores de nuestras listas como argumentos."
   ]
  },
  {
   "cell_type": "code",
   "execution_count": 13,
   "metadata": {},
   "outputs": [
    {
     "data": {
      "text/html": [
       "<div>\n",
       "<style scoped>\n",
       "    .dataframe tbody tr th:only-of-type {\n",
       "        vertical-align: middle;\n",
       "    }\n",
       "\n",
       "    .dataframe tbody tr th {\n",
       "        vertical-align: top;\n",
       "    }\n",
       "\n",
       "    .dataframe thead th {\n",
       "        text-align: right;\n",
       "    }\n",
       "</style>\n",
       "<table border=\"1\" class=\"dataframe\">\n",
       "  <thead>\n",
       "    <tr style=\"text-align: right;\">\n",
       "      <th></th>\n",
       "      <th>MES</th>\n",
       "      <th>DIA_SEMANA</th>\n",
       "      <th>TEMPERATURA</th>\n",
       "      <th>HUMEDAD_RELATIVA</th>\n",
       "      <th>VIENTO</th>\n",
       "      <th>LLUVIA</th>\n",
       "      <th>AREA_QUEMADA</th>\n",
       "      <th>GRAVEDAD</th>\n",
       "    </tr>\n",
       "  </thead>\n",
       "  <tbody>\n",
       "    <tr>\n",
       "      <th>0</th>\n",
       "      <td>mar</td>\n",
       "      <td>vie</td>\n",
       "      <td>8.2</td>\n",
       "      <td>51</td>\n",
       "      <td>6.7</td>\n",
       "      <td>0.0</td>\n",
       "      <td>0.0</td>\n",
       "      <td>BAJA</td>\n",
       "    </tr>\n",
       "    <tr>\n",
       "      <th>1</th>\n",
       "      <td>oct</td>\n",
       "      <td>mar</td>\n",
       "      <td>18.0</td>\n",
       "      <td>33</td>\n",
       "      <td>0.9</td>\n",
       "      <td>0.0</td>\n",
       "      <td>0.0</td>\n",
       "      <td>BAJA</td>\n",
       "    </tr>\n",
       "    <tr>\n",
       "      <th>2</th>\n",
       "      <td>oct</td>\n",
       "      <td>sab</td>\n",
       "      <td>14.6</td>\n",
       "      <td>33</td>\n",
       "      <td>1.3</td>\n",
       "      <td>0.0</td>\n",
       "      <td>0.0</td>\n",
       "      <td>BAJA</td>\n",
       "    </tr>\n",
       "    <tr>\n",
       "      <th>3</th>\n",
       "      <td>mar</td>\n",
       "      <td>vie</td>\n",
       "      <td>8.3</td>\n",
       "      <td>97</td>\n",
       "      <td>4.0</td>\n",
       "      <td>0.2</td>\n",
       "      <td>0.0</td>\n",
       "      <td>BAJA</td>\n",
       "    </tr>\n",
       "    <tr>\n",
       "      <th>4</th>\n",
       "      <td>mar</td>\n",
       "      <td>dom</td>\n",
       "      <td>11.4</td>\n",
       "      <td>99</td>\n",
       "      <td>1.8</td>\n",
       "      <td>0.0</td>\n",
       "      <td>0.0</td>\n",
       "      <td>BAJA</td>\n",
       "    </tr>\n",
       "  </tbody>\n",
       "</table>\n",
       "</div>"
      ],
      "text/plain": [
       "   MES DIA_SEMANA  TEMPERATURA  HUMEDAD_RELATIVA  VIENTO  LLUVIA  \\\n",
       "0  mar        vie          8.2                51     6.7     0.0   \n",
       "1  oct        mar         18.0                33     0.9     0.0   \n",
       "2  oct        sab         14.6                33     1.3     0.0   \n",
       "3  mar        vie          8.3                97     4.0     0.2   \n",
       "4  mar        dom         11.4                99     1.8     0.0   \n",
       "\n",
       "   AREA_QUEMADA GRAVEDAD  \n",
       "0           0.0     BAJA  \n",
       "1           0.0     BAJA  \n",
       "2           0.0     BAJA  \n",
       "3           0.0     BAJA  \n",
       "4           0.0     BAJA  "
      ]
     },
     "execution_count": 13,
     "metadata": {},
     "output_type": "execute_result"
    }
   ],
   "source": [
    "df['GRAVEDAD'] = np.select(conditions, values)\n",
    "df.head()"
   ]
  },
  {
   "cell_type": "markdown",
   "metadata": {},
   "source": [
    "## Análisis de los datos obtenidos por medio de graficas"
   ]
  },
  {
   "cell_type": "markdown",
   "metadata": {},
   "source": [
    "Diccionario de variables:\n",
    "   3. Mes - JAN (Enero) a DEC (Diciembre)\n",
    "   4. DIA_SEMANA - MON (Lunes) a SUN (Domingo)\n",
    "   9. TEMPERATURA - De 2.2 a 33.30 grados celsius\n",
    "   10. HUMEDAD RELATIVA - Porcentaje %: 15.0 a 100\n",
    "   11. VIENTO - Velocidad en km/h: 0.40 a 9.40 \n",
    "   12. LLUVIA - Volumen mm/m2 : 0.0 a 6.4 \n",
    "   13. AREA QUEMADA - En hectareas: 0.00 a 1090.84"
   ]
  },
  {
   "cell_type": "markdown",
   "metadata": {},
   "source": [
    "<b>Análisis univariante</b>\n",
    "\n",
    "El análisis univariante es la forma más sencilla de analizar datos. Se trata simplemente de considerar cada variable por separado, sumarizarla y analizar su distribución de valores.\n",
    "\n",
    "Veremos la distribucion de sus valores en un ```histograma```"
   ]
  },
  {
   "cell_type": "code",
   "execution_count": 14,
   "metadata": {},
   "outputs": [
    {
     "data": {
      "image/png": "[encoded data removed]",
      "text/plain": [
       "<Figure size 2160x1440 with 6 Axes>"
      ]
     },
     "metadata": {
      "needs_background": "light"
     },
     "output_type": "display_data"
    }
   ],
   "source": [
    "df.hist(bins=50, figsize=(30,20));"
   ]
  },
  {
   "cell_type": "markdown",
   "metadata": {},
   "source": [
    "<b>Variables numéricas</b>\n",
    "\n",
    "La función ```describe()``` nos permite hacer una descriptiva rápida de las variables de tipo numérico. En concreto, nos muestra la media, la desviación estándard, el mínimo, el máximo y los cuartiles de las variables."
   ]
  },
  {
   "cell_type": "code",
   "execution_count": 15,
   "metadata": {},
   "outputs": [
    {
     "data": {
      "text/html": [
       "<div>\n",
       "<style scoped>\n",
       "    .dataframe tbody tr th:only-of-type {\n",
       "        vertical-align: middle;\n",
       "    }\n",
       "\n",
       "    .dataframe tbody tr th {\n",
       "        vertical-align: top;\n",
       "    }\n",
       "\n",
       "    .dataframe thead th {\n",
       "        text-align: right;\n",
       "    }\n",
       "</style>\n",
       "<table border=\"1\" class=\"dataframe\">\n",
       "  <thead>\n",
       "    <tr style=\"text-align: right;\">\n",
       "      <th></th>\n",
       "      <th>count</th>\n",
       "      <th>mean</th>\n",
       "      <th>std</th>\n",
       "      <th>min</th>\n",
       "      <th>25%</th>\n",
       "      <th>50%</th>\n",
       "      <th>75%</th>\n",
       "      <th>max</th>\n",
       "    </tr>\n",
       "  </thead>\n",
       "  <tbody>\n",
       "    <tr>\n",
       "      <th>TEMPERATURA</th>\n",
       "      <td>517.0</td>\n",
       "      <td>18.889168</td>\n",
       "      <td>5.806625</td>\n",
       "      <td>2.2</td>\n",
       "      <td>15.5</td>\n",
       "      <td>19.30</td>\n",
       "      <td>22.80</td>\n",
       "      <td>33.30</td>\n",
       "    </tr>\n",
       "    <tr>\n",
       "      <th>HUMEDAD_RELATIVA</th>\n",
       "      <td>517.0</td>\n",
       "      <td>44.288201</td>\n",
       "      <td>16.317469</td>\n",
       "      <td>15.0</td>\n",
       "      <td>33.0</td>\n",
       "      <td>42.00</td>\n",
       "      <td>53.00</td>\n",
       "      <td>100.00</td>\n",
       "    </tr>\n",
       "    <tr>\n",
       "      <th>VIENTO</th>\n",
       "      <td>517.0</td>\n",
       "      <td>4.017602</td>\n",
       "      <td>1.791653</td>\n",
       "      <td>0.4</td>\n",
       "      <td>2.7</td>\n",
       "      <td>4.00</td>\n",
       "      <td>4.90</td>\n",
       "      <td>9.40</td>\n",
       "    </tr>\n",
       "    <tr>\n",
       "      <th>LLUVIA</th>\n",
       "      <td>517.0</td>\n",
       "      <td>0.021663</td>\n",
       "      <td>0.295959</td>\n",
       "      <td>0.0</td>\n",
       "      <td>0.0</td>\n",
       "      <td>0.00</td>\n",
       "      <td>0.00</td>\n",
       "      <td>6.40</td>\n",
       "    </tr>\n",
       "    <tr>\n",
       "      <th>AREA_QUEMADA</th>\n",
       "      <td>517.0</td>\n",
       "      <td>12.847292</td>\n",
       "      <td>63.655818</td>\n",
       "      <td>0.0</td>\n",
       "      <td>0.0</td>\n",
       "      <td>0.52</td>\n",
       "      <td>6.57</td>\n",
       "      <td>1090.84</td>\n",
       "    </tr>\n",
       "  </tbody>\n",
       "</table>\n",
       "</div>"
      ],
      "text/plain": [
       "                  count       mean        std   min   25%    50%    75%  \\\n",
       "TEMPERATURA       517.0  18.889168   5.806625   2.2  15.5  19.30  22.80   \n",
       "HUMEDAD_RELATIVA  517.0  44.288201  16.317469  15.0  33.0  42.00  53.00   \n",
       "VIENTO            517.0   4.017602   1.791653   0.4   2.7   4.00   4.90   \n",
       "LLUVIA            517.0   0.021663   0.295959   0.0   0.0   0.00   0.00   \n",
       "AREA_QUEMADA      517.0  12.847292  63.655818   0.0   0.0   0.52   6.57   \n",
       "\n",
       "                      max  \n",
       "TEMPERATURA         33.30  \n",
       "HUMEDAD_RELATIVA   100.00  \n",
       "VIENTO               9.40  \n",
       "LLUVIA               6.40  \n",
       "AREA_QUEMADA      1090.84  "
      ]
     },
     "execution_count": 15,
     "metadata": {},
     "output_type": "execute_result"
    }
   ],
   "source": [
    "df.describe().T"
   ]
  },
  {
   "cell_type": "markdown",
   "metadata": {},
   "source": [
    "Vamos a prestar mas atencion a la columna de <em>AREA_QUEMADA</em>."
   ]
  },
  {
   "cell_type": "code",
   "execution_count": 16,
   "metadata": {},
   "outputs": [
    {
     "data": {
      "text/plain": [
       "count     517.000000\n",
       "mean       12.847292\n",
       "std        63.655818\n",
       "min         0.000000\n",
       "25%         0.000000\n",
       "50%         0.520000\n",
       "75%         6.570000\n",
       "max      1090.840000\n",
       "Name: AREA_QUEMADA, dtype: float64"
      ]
     },
     "execution_count": 16,
     "metadata": {},
     "output_type": "execute_result"
    }
   ],
   "source": [
    "df['AREA_QUEMADA'].describe()"
   ]
  },
  {
   "cell_type": "markdown",
   "metadata": {},
   "source": [
    "El mayor area quemada es de 1090 hectareas y la media es relativamente baja."
   ]
  },
  {
   "cell_type": "markdown",
   "metadata": {},
   "source": [
    "<b>Test de normalidad</b>\n",
    "\n",
    "Vamos a observar como se comportan las temperaturas a lo largo del tiempo\n",
    "\n",
    "Con la función ```distplot``` de la librería de visualización ```Seaborn``` podemos comparar la distribución de nuestra variable con la normal."
   ]
  },
  {
   "cell_type": "code",
   "execution_count": 17,
   "metadata": {},
   "outputs": [
    {
     "data": {
      "text/plain": [
       "<matplotlib.axes._subplots.AxesSubplot at 0x1592747b940>"
      ]
     },
     "execution_count": 17,
     "metadata": {},
     "output_type": "execute_result"
    },
    {
     "data": {
      "image/png": "[encoded data removed]",
      "text/plain": [
       "<Figure size 432x288 with 1 Axes>"
      ]
     },
     "metadata": {
      "needs_background": "light"
     },
     "output_type": "display_data"
    }
   ],
   "source": [
    "import seaborn as sns\n",
    "from scipy.stats import norm\n",
    "\n",
    "sns.distplot(df['TEMPERATURA'], fit = norm)"
   ]
  },
  {
   "cell_type": "markdown",
   "metadata": {},
   "source": [
    "Aqui podemos observar que la temperatura sigue la normal lo cual es logico ya que concuerda con los meses del año."
   ]
  },
  {
   "cell_type": "markdown",
   "metadata": {},
   "source": [
    "La función ```skew``` calcula el coeficiente de asimetría.\n",
    "Si es positivo y mayor que uno, los valores de la distribución són más densos hacia la izquierda del gráfico. En una distribución normal, el coeficiente de asimetría sería cercano a cero."
   ]
  },
  {
   "cell_type": "code",
   "execution_count": 18,
   "metadata": {},
   "outputs": [
    {
     "data": {
      "text/plain": [
       "-0.331172237347285"
      ]
     },
     "execution_count": 18,
     "metadata": {},
     "output_type": "execute_result"
    }
   ],
   "source": [
    "df['TEMPERATURA'].skew()"
   ]
  },
  {
   "cell_type": "markdown",
   "metadata": {},
   "source": [
    "En nuestro caso es casi cero y negativo lo que indica qu esta cerca del centro tirando para la derecha."
   ]
  },
  {
   "cell_type": "markdown",
   "metadata": {},
   "source": [
    "La función ```kurtosis``` nos da una idea de la relación del pico central con los extremos de la campana de la distribución. Si es cercano a 1, el valor será coherente con la normalidad de la variable."
   ]
  },
  {
   "cell_type": "code",
   "execution_count": 19,
   "metadata": {},
   "outputs": [
    {
     "data": {
      "text/plain": [
       "0.1361655076587991"
      ]
     },
     "execution_count": 19,
     "metadata": {},
     "output_type": "execute_result"
    }
   ],
   "source": [
    "df['TEMPERATURA'].kurtosis()"
   ]
  },
  {
   "cell_type": "markdown",
   "metadata": {},
   "source": [
    "En nuestro caso esta muy cerca."
   ]
  },
  {
   "cell_type": "markdown",
   "metadata": {},
   "source": [
    "<b>Variables categóricas</b>\n",
    "\n",
    "El otro tipo de variables que tenemos son las variables categóricas. Analizaremos la variable que identifica la velocidad del viento en km/h.\n"
   ]
  },
  {
   "cell_type": "code",
   "execution_count": 20,
   "metadata": {},
   "outputs": [
    {
     "data": {
      "text/plain": [
       "<matplotlib.axes._subplots.AxesSubplot at 0x1592750c100>"
      ]
     },
     "execution_count": 20,
     "metadata": {},
     "output_type": "execute_result"
    },
    {
     "data": {
      "image/png": "[encoded data removed]",
      "text/plain": [
       "<Figure size 432x288 with 1 Axes>"
      ]
     },
     "metadata": {
      "needs_background": "light"
     },
     "output_type": "display_data"
    }
   ],
   "source": [
    "df['VIENTO'].value_counts().plot(kind='bar')"
   ]
  },
  {
   "cell_type": "markdown",
   "metadata": {},
   "source": [
    "Aqui vemos cuales son las velocidades mas comunes."
   ]
  },
  {
   "cell_type": "markdown",
   "metadata": {},
   "source": [
    "<b>Análisis bivariante</b>\n",
    "\n",
    "Para analizar un conjunto de datos debemos tener en cuenta más de una variable a la vez. El análisis bivariante permite identificar las relaciones entre dos variables, y hasta ver de qué forma una puede predecir la otra.\n",
    "\n",
    "En este caso podemos ver cuál es la relación entre la <em>TEMPERATURA</em> y la <em>HUMEDAD_RELATIVA</em> con un ```scatter plot``` o diagrama de puntos.\n"
   ]
  },
  {
   "cell_type": "code",
   "execution_count": 21,
   "metadata": {},
   "outputs": [
    {
     "data": {
      "text/plain": [
       "<matplotlib.axes._subplots.AxesSubplot at 0x1592751d700>"
      ]
     },
     "execution_count": 21,
     "metadata": {},
     "output_type": "execute_result"
    },
    {
     "data": {
      "image/png": "[encoded data removed]",
      "text/plain": [
       "<Figure size 432x288 with 1 Axes>"
      ]
     },
     "metadata": {
      "needs_background": "light"
     },
     "output_type": "display_data"
    }
   ],
   "source": [
    "data = pd.concat([df['TEMPERATURA'], df['HUMEDAD_RELATIVA']], axis=1)\n",
    "data.plot.scatter(x='HUMEDAD_RELATIVA', y='TEMPERATURA')"
   ]
  },
  {
   "cell_type": "markdown",
   "metadata": {},
   "source": [
    "Aquí podemos observar como la humedad relativa se incrementa a medida que disminuye la temperatura.\n",
    "\n",
    "También podemos ver que a unos 20 grados es la zona con mayores registros en humedad lo que quiere decir que es la temperatura mas estable."
   ]
  },
  {
   "cell_type": "markdown",
   "metadata": {},
   "source": [
    "Podemos visualizar la relación tambien con un ```boxplot``` o diagrama de cajas."
   ]
  },
  {
   "cell_type": "code",
   "execution_count": 29,
   "metadata": {},
   "outputs": [
    {
     "data": {
      "image/png": "[encoded data removed]",
      "text/plain": [
       "<Figure size 1728x864 with 1 Axes>"
      ]
     },
     "metadata": {
      "needs_background": "light"
     },
     "output_type": "display_data"
    }
   ],
   "source": [
    "import matplotlib.pyplot as plt\n",
    "\n",
    "data = pd.concat([df['AREA_QUEMADA'], df['MES']], axis=1)\n",
    "f, ax = plt.subplots(figsize=(24, 12))\n",
    "fig = sns.boxplot(x='MES', y=\"AREA_QUEMADA\", data=data)\n",
    "plt.xticks(rotation=90);"
   ]
  },
  {
   "cell_type": "markdown",
   "metadata": {},
   "source": [
    "Aqui vemos que los meses con mas abundancia de incendios son <em>Julio</em>, <em>Agosto</em> y <em>Septiembre</em>.\n",
    "\n",
    "Los mayores incendios son en <em>Agosto</em> y <em>Septiembre</em>.\n",
    "\n",
    "Con esto podriamos contratar a mas gente en esos meses para prevenir los incendios y prescindir de ellos en <em>Enero</em> y <em>Noviembre</em>."
   ]
  },
  {
   "cell_type": "markdown",
   "metadata": {},
   "source": [
    "<b>Análisis multivariante</b>\n",
    "\n",
    "Finalmente, nos interesará ver qué conjuntos de variables estan relacionadas entre sí. Para ello, usaremos técnicas estadísticas de análisis multivariante.\n",
    "\n",
    "Una de las herramientas más útiles es calcular la matriz de correlación entre las variables. Con la función ```heatmap``` podemos visualizar de manera sencilla aquellas variables más correlacionadas, que corresponden a una intensidad mayor de color.\n"
   ]
  },
  {
   "cell_type": "code",
   "execution_count": 53,
   "metadata": {},
   "outputs": [
    {
     "data": {
      "text/plain": [
       "<matplotlib.axes._subplots.AxesSubplot at 0x20235279dc0>"
      ]
     },
     "execution_count": 53,
     "metadata": {},
     "output_type": "execute_result"
    },
    {
     "data": {
      "image/png": "[encoded data removed]",
      "text/plain": [
       "<Figure size 864x720 with 2 Axes>"
      ]
     },
     "metadata": {
      "needs_background": "light"
     },
     "output_type": "display_data"
    }
   ],
   "source": [
    "corrmat = df.corr(method='spearman')\n",
    "f, ax = plt.subplots(figsize=(12, 10))\n",
    "sns.heatmap(corrmat, ax=ax, cmap=\"YlGnBu\", linewidths=0.1)"
   ]
  },
  {
   "cell_type": "markdown",
   "metadata": {},
   "source": [
    "El ```clustermap``` nos permite ir un paso más allá y agrupar las variables que tienen más relación entre ellas, a partir de un algoritmo de clustering a partir de la información de la correlación. Esto nos servirá eventualmente, para evitar escojer datos muy correlacionados que nos puedan perjudicar en el momento de aplicar un modelo."
   ]
  },
  {
   "cell_type": "code",
   "execution_count": 55,
   "metadata": {},
   "outputs": [
    {
     "data": {
      "text/plain": [
       "<seaborn.matrix.ClusterGrid at 0x2023558fd30>"
      ]
     },
     "execution_count": 55,
     "metadata": {},
     "output_type": "execute_result"
    },
    {
     "data": {
      "image/png": "[encoded data removed]",
      "text/plain": [
       "<Figure size 720x720 with 4 Axes>"
      ]
     },
     "metadata": {
      "needs_background": "light"
     },
     "output_type": "display_data"
    }
   ],
   "source": [
    "corrmat = df.corr(method='spearman')\n",
    "cg = sns.clustermap(corrmat, cmap=\"YlGnBu\", linewidths=0.1);\n",
    "plt.setp(cg.ax_heatmap.yaxis.get_majorticklabels(), rotation=0)\n",
    "cg"
   ]
  },
  {
   "cell_type": "markdown",
   "metadata": {},
   "source": [
    "En este caso vemos que las variables no estan muy correlacionadas.\n",
    "\n",
    "Se puede ver que la <em>HUMEDAD_RELATIVA</em> y la <em>LLUVIA</em> estan mas correlacionados lo cual tiene bastante sentido"
   ]
  }
 ],
 "metadata": {
  "kernelspec": {
   "display_name": "Python 3",
   "language": "python",
   "name": "python3"
  },
  "language_info": {
   "codemirror_mode": {
    "name": "ipython",
    "version": 3
   },
   "file_extension": ".py",
   "mimetype": "text/x-python",
   "name": "python",
   "nbconvert_exporter": "python",
   "pygments_lexer": "ipython3",
   "version": "3.8.3"
  }
 },
 "nbformat": 4,
 "nbformat_minor": 4
}
